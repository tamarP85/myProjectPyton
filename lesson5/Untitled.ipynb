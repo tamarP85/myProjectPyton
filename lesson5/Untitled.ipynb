{
 "cells": [
  {
   "cell_type": "code",
   "execution_count": 5,
   "id": "6d0d36f7-b614-4368-8385-9bace7a1a5ed",
   "metadata": {},
   "outputs": [
    {
     "name": "stdout",
     "output_type": "stream",
     "text": [
      "Requirement already satisfied: numpy in c:\\python310\\lib\\site-packages (2.2.5)\n",
      "Note: you may need to restart the kernel to use updated packages.\n"
     ]
    },
    {
     "name": "stderr",
     "output_type": "stream",
     "text": [
      "\n",
      "[notice] A new release of pip is available: 23.3.2 -> 25.1.1\n",
      "[notice] To update, run: python.exe -m pip install --upgrade pip\n"
     ]
    }
   ],
   "source": [
    "pip install numpy"
   ]
  },
  {
   "cell_type": "code",
   "execution_count": 3,
   "id": "16cc676f-c848-424c-bcc1-e39ae29743da",
   "metadata": {},
   "outputs": [
    {
     "ename": "SyntaxError",
     "evalue": "invalid syntax. Perhaps you forgot a comma? (2204666075.py, line 1)",
     "output_type": "error",
     "traceback": [
      "\u001b[1;36m  Cell \u001b[1;32mIn[3], line 1\u001b[1;36m\u001b[0m\n\u001b[1;33m    random_int = np.random.randint(1 50)\u001b[0m\n\u001b[1;37m                                   ^\u001b[0m\n\u001b[1;31mSyntaxError\u001b[0m\u001b[1;31m:\u001b[0m invalid syntax. Perhaps you forgot a comma?\n"
     ]
    }
   ],
   "source": [
    "random_int = np.random.randint(1 ,50)\n",
    "np.mean(random_int)"
   ]
  },
  {
   "cell_type": "code",
   "execution_count": 4,
   "id": "928ee427-8362-4724-b614-f1b8ffee20d2",
   "metadata": {},
   "outputs": [
    {
     "ename": "NameError",
     "evalue": "name 'np' is not defined",
     "output_type": "error",
     "traceback": [
      "\u001b[1;31m---------------------------------------------------------------------------\u001b[0m",
      "\u001b[1;31mNameError\u001b[0m                                 Traceback (most recent call last)",
      "Cell \u001b[1;32mIn[4], line 1\u001b[0m\n\u001b[1;32m----> 1\u001b[0m random_int \u001b[38;5;241m=\u001b[39m \u001b[43mnp\u001b[49m\u001b[38;5;241m.\u001b[39mrandom\u001b[38;5;241m.\u001b[39mrandint(\u001b[38;5;241m1\u001b[39m ,\u001b[38;5;241m50\u001b[39m)\n\u001b[0;32m      2\u001b[0m np\u001b[38;5;241m.\u001b[39mmean(random_int)\n",
      "\u001b[1;31mNameError\u001b[0m: name 'np' is not defined"
     ]
    }
   ],
   "source": [
    "random_int = np.random.randint(1 ,50)\n",
    "np.mean(random_int)"
   ]
  },
  {
   "cell_type": "code",
   "execution_count": 6,
   "id": "9001822b-5e25-4058-a424-ea7bb3b76c01",
   "metadata": {},
   "outputs": [],
   "source": [
    "import numpy as np"
   ]
  },
  {
   "cell_type": "code",
   "execution_count": 8,
   "id": "c207a22c-c923-44aa-8649-9cd528a261f6",
   "metadata": {},
   "outputs": [
    {
     "data": {
      "text/plain": [
       "np.float64(33.5)"
      ]
     },
     "execution_count": 8,
     "metadata": {},
     "output_type": "execute_result"
    }
   ],
   "source": [
    "random_int = np.random.randint(1 ,50,10)\n",
    "np.mean(random_int)"
   ]
  },
  {
   "cell_type": "code",
   "execution_count": 15,
   "id": "e251976e-0219-43a7-81e3-c85dca4cef2e",
   "metadata": {},
   "outputs": [
    {
     "data": {
      "text/plain": [
       "array([77, 99, 78, 59, 61, 84, 58, 61, 91, 52, 62, 59, 83], dtype=int32)"
      ]
     },
     "execution_count": 15,
     "metadata": {},
     "output_type": "execute_result"
    }
   ],
   "source": [
    "arr = np.random.randint(1 ,100,20)\n",
    "condition = arr >50\n",
    "filtered_arr = arr[condition]\n",
    "filtered_arr"
   ]
  },
  {
   "cell_type": "code",
   "execution_count": null,
   "id": "be61d2fb-acca-4a8a-b4ed-a15e662dfbf0",
   "metadata": {},
   "outputs": [],
   "source": []
  },
  {
   "cell_type": "code",
   "execution_count": 13,
   "id": "60fe4f41-efc0-4794-9382-adcb4e7da9ab",
   "metadata": {},
   "outputs": [
    {
     "data": {
      "text/plain": [
       "array([[ 6, 16, 14],\n",
       "       [14, 10, 18],\n",
       "       [14,  8,  2]])"
      ]
     },
     "execution_count": 13,
     "metadata": {},
     "output_type": "execute_result"
    }
   ],
   "source": [
    "\n",
    "arr1=[[3, 8, 7],\n",
    "       [7, 5, 9],\n",
    "       [7, 4, 1]]\n",
    "arr=[[3, 8, 7],\n",
    "       [7, 5, 9],\n",
    "       [7, 4, 1]]\n",
    "arr3=np.add(arr,arr1)\n",
    "arr3"
   ]
  }
 ],
 "metadata": {
  "kernelspec": {
   "display_name": "Python 3 (ipykernel)",
   "language": "python",
   "name": "python3"
  },
  "language_info": {
   "codemirror_mode": {
    "name": "ipython",
    "version": 3
   },
   "file_extension": ".py",
   "mimetype": "text/x-python",
   "name": "python",
   "nbconvert_exporter": "python",
   "pygments_lexer": "ipython3",
   "version": "3.10.8"
  }
 },
 "nbformat": 4,
 "nbformat_minor": 5
}
